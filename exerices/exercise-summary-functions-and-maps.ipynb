{
 "cells": [
  {
   "cell_type": "markdown",
   "id": "519d8001",
   "metadata": {
    "papermill": {
     "duration": 0.007551,
     "end_time": "2022-11-15T00:43:47.244049",
     "exception": false,
     "start_time": "2022-11-15T00:43:47.236498",
     "status": "completed"
    },
    "tags": []
   },
   "source": [
    "**This notebook is an exercise in the [Pandas](https://www.kaggle.com/learn/pandas) course.  You can reference the tutorial at [this link](https://www.kaggle.com/residentmario/summary-functions-and-maps).**\n",
    "\n",
    "---\n"
   ]
  },
  {
   "cell_type": "markdown",
   "id": "07a7da81",
   "metadata": {
    "papermill": {
     "duration": 0.006132,
     "end_time": "2022-11-15T00:43:47.256626",
     "exception": false,
     "start_time": "2022-11-15T00:43:47.250494",
     "status": "completed"
    },
    "tags": []
   },
   "source": [
    "# Introduction\n",
    "\n",
    "Now you are ready to get a deeper understanding of your data.\n",
    "\n",
    "Run the following cell to load your data and some utility functions (including code to check your answers)."
   ]
  },
  {
   "cell_type": "code",
   "execution_count": 1,
   "id": "b8514c73",
   "metadata": {
    "execution": {
     "iopub.execute_input": "2022-11-15T00:43:47.272536Z",
     "iopub.status.busy": "2022-11-15T00:43:47.271523Z",
     "iopub.status.idle": "2022-11-15T00:43:54.353831Z",
     "shell.execute_reply": "2022-11-15T00:43:54.352689Z"
    },
    "papermill": {
     "duration": 7.093534,
     "end_time": "2022-11-15T00:43:54.356403",
     "exception": false,
     "start_time": "2022-11-15T00:43:47.262869",
     "status": "completed"
    },
    "tags": []
   },
   "outputs": [
    {
     "name": "stdout",
     "output_type": "stream",
     "text": [
      "Setup complete.\n"
     ]
    },
    {
     "data": {
      "text/html": [
       "<div>\n",
       "<style scoped>\n",
       "    .dataframe tbody tr th:only-of-type {\n",
       "        vertical-align: middle;\n",
       "    }\n",
       "\n",
       "    .dataframe tbody tr th {\n",
       "        vertical-align: top;\n",
       "    }\n",
       "\n",
       "    .dataframe thead th {\n",
       "        text-align: right;\n",
       "    }\n",
       "</style>\n",
       "<table border=\"1\" class=\"dataframe\">\n",
       "  <thead>\n",
       "    <tr style=\"text-align: right;\">\n",
       "      <th></th>\n",
       "      <th>country</th>\n",
       "      <th>description</th>\n",
       "      <th>designation</th>\n",
       "      <th>points</th>\n",
       "      <th>price</th>\n",
       "      <th>province</th>\n",
       "      <th>region_1</th>\n",
       "      <th>region_2</th>\n",
       "      <th>taster_name</th>\n",
       "      <th>taster_twitter_handle</th>\n",
       "      <th>title</th>\n",
       "      <th>variety</th>\n",
       "      <th>winery</th>\n",
       "    </tr>\n",
       "  </thead>\n",
       "  <tbody>\n",
       "    <tr>\n",
       "      <th>0</th>\n",
       "      <td>Italy</td>\n",
       "      <td>Aromas include tropical fruit, broom, brimston...</td>\n",
       "      <td>Vulkà Bianco</td>\n",
       "      <td>87</td>\n",
       "      <td>NaN</td>\n",
       "      <td>Sicily &amp; Sardinia</td>\n",
       "      <td>Etna</td>\n",
       "      <td>NaN</td>\n",
       "      <td>Kerin O’Keefe</td>\n",
       "      <td>@kerinokeefe</td>\n",
       "      <td>Nicosia 2013 Vulkà Bianco  (Etna)</td>\n",
       "      <td>White Blend</td>\n",
       "      <td>Nicosia</td>\n",
       "    </tr>\n",
       "    <tr>\n",
       "      <th>1</th>\n",
       "      <td>Portugal</td>\n",
       "      <td>This is ripe and fruity, a wine that is smooth...</td>\n",
       "      <td>Avidagos</td>\n",
       "      <td>87</td>\n",
       "      <td>15.0</td>\n",
       "      <td>Douro</td>\n",
       "      <td>NaN</td>\n",
       "      <td>NaN</td>\n",
       "      <td>Roger Voss</td>\n",
       "      <td>@vossroger</td>\n",
       "      <td>Quinta dos Avidagos 2011 Avidagos Red (Douro)</td>\n",
       "      <td>Portuguese Red</td>\n",
       "      <td>Quinta dos Avidagos</td>\n",
       "    </tr>\n",
       "    <tr>\n",
       "      <th>2</th>\n",
       "      <td>US</td>\n",
       "      <td>Tart and snappy, the flavors of lime flesh and...</td>\n",
       "      <td>NaN</td>\n",
       "      <td>87</td>\n",
       "      <td>14.0</td>\n",
       "      <td>Oregon</td>\n",
       "      <td>Willamette Valley</td>\n",
       "      <td>Willamette Valley</td>\n",
       "      <td>Paul Gregutt</td>\n",
       "      <td>@paulgwine</td>\n",
       "      <td>Rainstorm 2013 Pinot Gris (Willamette Valley)</td>\n",
       "      <td>Pinot Gris</td>\n",
       "      <td>Rainstorm</td>\n",
       "    </tr>\n",
       "    <tr>\n",
       "      <th>3</th>\n",
       "      <td>US</td>\n",
       "      <td>Pineapple rind, lemon pith and orange blossom ...</td>\n",
       "      <td>Reserve Late Harvest</td>\n",
       "      <td>87</td>\n",
       "      <td>13.0</td>\n",
       "      <td>Michigan</td>\n",
       "      <td>Lake Michigan Shore</td>\n",
       "      <td>NaN</td>\n",
       "      <td>Alexander Peartree</td>\n",
       "      <td>NaN</td>\n",
       "      <td>St. Julian 2013 Reserve Late Harvest Riesling ...</td>\n",
       "      <td>Riesling</td>\n",
       "      <td>St. Julian</td>\n",
       "    </tr>\n",
       "    <tr>\n",
       "      <th>4</th>\n",
       "      <td>US</td>\n",
       "      <td>Much like the regular bottling from 2012, this...</td>\n",
       "      <td>Vintner's Reserve Wild Child Block</td>\n",
       "      <td>87</td>\n",
       "      <td>65.0</td>\n",
       "      <td>Oregon</td>\n",
       "      <td>Willamette Valley</td>\n",
       "      <td>Willamette Valley</td>\n",
       "      <td>Paul Gregutt</td>\n",
       "      <td>@paulgwine</td>\n",
       "      <td>Sweet Cheeks 2012 Vintner's Reserve Wild Child...</td>\n",
       "      <td>Pinot Noir</td>\n",
       "      <td>Sweet Cheeks</td>\n",
       "    </tr>\n",
       "  </tbody>\n",
       "</table>\n",
       "</div>"
      ],
      "text/plain": [
       "    country                                        description  \\\n",
       "0     Italy  Aromas include tropical fruit, broom, brimston...   \n",
       "1  Portugal  This is ripe and fruity, a wine that is smooth...   \n",
       "2        US  Tart and snappy, the flavors of lime flesh and...   \n",
       "3        US  Pineapple rind, lemon pith and orange blossom ...   \n",
       "4        US  Much like the regular bottling from 2012, this...   \n",
       "\n",
       "                          designation  points  price           province  \\\n",
       "0                        Vulkà Bianco      87    NaN  Sicily & Sardinia   \n",
       "1                            Avidagos      87   15.0              Douro   \n",
       "2                                 NaN      87   14.0             Oregon   \n",
       "3                Reserve Late Harvest      87   13.0           Michigan   \n",
       "4  Vintner's Reserve Wild Child Block      87   65.0             Oregon   \n",
       "\n",
       "              region_1           region_2         taster_name  \\\n",
       "0                 Etna                NaN       Kerin O’Keefe   \n",
       "1                  NaN                NaN          Roger Voss   \n",
       "2    Willamette Valley  Willamette Valley        Paul Gregutt   \n",
       "3  Lake Michigan Shore                NaN  Alexander Peartree   \n",
       "4    Willamette Valley  Willamette Valley        Paul Gregutt   \n",
       "\n",
       "  taster_twitter_handle                                              title  \\\n",
       "0          @kerinokeefe                  Nicosia 2013 Vulkà Bianco  (Etna)   \n",
       "1            @vossroger      Quinta dos Avidagos 2011 Avidagos Red (Douro)   \n",
       "2           @paulgwine       Rainstorm 2013 Pinot Gris (Willamette Valley)   \n",
       "3                   NaN  St. Julian 2013 Reserve Late Harvest Riesling ...   \n",
       "4           @paulgwine   Sweet Cheeks 2012 Vintner's Reserve Wild Child...   \n",
       "\n",
       "          variety               winery  \n",
       "0     White Blend              Nicosia  \n",
       "1  Portuguese Red  Quinta dos Avidagos  \n",
       "2      Pinot Gris            Rainstorm  \n",
       "3        Riesling           St. Julian  \n",
       "4      Pinot Noir         Sweet Cheeks  "
      ]
     },
     "execution_count": 1,
     "metadata": {},
     "output_type": "execute_result"
    }
   ],
   "source": [
    "import pandas as pd\n",
    "pd.set_option(\"display.max_rows\", 5)\n",
    "reviews = pd.read_csv(\"../input/wine-reviews/winemag-data-130k-v2.csv\", index_col=0)\n",
    "\n",
    "from learntools.core import binder; binder.bind(globals())\n",
    "from learntools.pandas.summary_functions_and_maps import *\n",
    "print(\"Setup complete.\")\n",
    "\n",
    "reviews.head()"
   ]
  },
  {
   "cell_type": "markdown",
   "id": "4ab4df3c",
   "metadata": {
    "papermill": {
     "duration": 0.006529,
     "end_time": "2022-11-15T00:43:54.370161",
     "exception": false,
     "start_time": "2022-11-15T00:43:54.363632",
     "status": "completed"
    },
    "tags": []
   },
   "source": [
    "# Exercises"
   ]
  },
  {
   "cell_type": "markdown",
   "id": "e5e44b76",
   "metadata": {
    "papermill": {
     "duration": 0.006511,
     "end_time": "2022-11-15T00:43:54.383643",
     "exception": false,
     "start_time": "2022-11-15T00:43:54.377132",
     "status": "completed"
    },
    "tags": []
   },
   "source": [
    "## 1.\n",
    "\n",
    "What is the median of the `points` column in the `reviews` DataFrame?"
   ]
  },
  {
   "cell_type": "code",
   "execution_count": 2,
   "id": "8217551c",
   "metadata": {
    "execution": {
     "iopub.execute_input": "2022-11-15T00:43:54.398966Z",
     "iopub.status.busy": "2022-11-15T00:43:54.398553Z",
     "iopub.status.idle": "2022-11-15T00:43:54.408879Z",
     "shell.execute_reply": "2022-11-15T00:43:54.408085Z"
    },
    "papermill": {
     "duration": 0.020667,
     "end_time": "2022-11-15T00:43:54.411058",
     "exception": false,
     "start_time": "2022-11-15T00:43:54.390391",
     "status": "completed"
    },
    "tags": []
   },
   "outputs": [
    {
     "data": {
      "application/javascript": [
       "parent.postMessage({\"jupyterEvent\": \"custom.exercise_interaction\", \"data\": {\"outcomeType\": 1, \"valueTowardsCompletion\": 0.14285714285714285, \"interactionType\": 1, \"questionType\": 1, \"questionId\": \"1_MedianPoints\", \"learnToolsVersion\": \"0.3.4\", \"failureMessage\": \"\", \"exceptionClass\": \"\", \"trace\": \"\"}}, \"*\")"
      ],
      "text/plain": [
       "<IPython.core.display.Javascript object>"
      ]
     },
     "metadata": {},
     "output_type": "display_data"
    },
    {
     "data": {
      "text/markdown": [
       "<span style=\"color:#33cc33\">Correct</span>"
      ],
      "text/plain": [
       "Correct"
      ]
     },
     "metadata": {},
     "output_type": "display_data"
    }
   ],
   "source": [
    "median_points = reviews.points.median()\n",
    "\n",
    "# Check your answer\n",
    "q1.check()"
   ]
  },
  {
   "cell_type": "code",
   "execution_count": 3,
   "id": "1d58f23d",
   "metadata": {
    "execution": {
     "iopub.execute_input": "2022-11-15T00:43:54.428914Z",
     "iopub.status.busy": "2022-11-15T00:43:54.428255Z",
     "iopub.status.idle": "2022-11-15T00:43:54.433006Z",
     "shell.execute_reply": "2022-11-15T00:43:54.431924Z"
    },
    "papermill": {
     "duration": 0.017115,
     "end_time": "2022-11-15T00:43:54.435299",
     "exception": false,
     "start_time": "2022-11-15T00:43:54.418184",
     "status": "completed"
    },
    "tags": []
   },
   "outputs": [],
   "source": [
    "#q1.hint()\n",
    "# q1.solution()"
   ]
  },
  {
   "cell_type": "markdown",
   "id": "ae09dad6",
   "metadata": {
    "papermill": {
     "duration": 0.006851,
     "end_time": "2022-11-15T00:43:54.449296",
     "exception": false,
     "start_time": "2022-11-15T00:43:54.442445",
     "status": "completed"
    },
    "tags": []
   },
   "source": [
    "## 2. \n",
    "What countries are represented in the dataset? (Your answer should not include any duplicates.)"
   ]
  },
  {
   "cell_type": "code",
   "execution_count": 4,
   "id": "dd917323",
   "metadata": {
    "execution": {
     "iopub.execute_input": "2022-11-15T00:43:54.465724Z",
     "iopub.status.busy": "2022-11-15T00:43:54.465023Z",
     "iopub.status.idle": "2022-11-15T00:43:54.480300Z",
     "shell.execute_reply": "2022-11-15T00:43:54.479177Z"
    },
    "papermill": {
     "duration": 0.026137,
     "end_time": "2022-11-15T00:43:54.482580",
     "exception": false,
     "start_time": "2022-11-15T00:43:54.456443",
     "status": "completed"
    },
    "tags": []
   },
   "outputs": [
    {
     "data": {
      "application/javascript": [
       "parent.postMessage({\"jupyterEvent\": \"custom.exercise_interaction\", \"data\": {\"outcomeType\": 1, \"valueTowardsCompletion\": 0.14285714285714285, \"interactionType\": 1, \"questionType\": 2, \"questionId\": \"2_UniqueCountries\", \"learnToolsVersion\": \"0.3.4\", \"failureMessage\": \"\", \"exceptionClass\": \"\", \"trace\": \"\"}}, \"*\")"
      ],
      "text/plain": [
       "<IPython.core.display.Javascript object>"
      ]
     },
     "metadata": {},
     "output_type": "display_data"
    },
    {
     "data": {
      "text/markdown": [
       "<span style=\"color:#33cc33\">Correct</span>"
      ],
      "text/plain": [
       "Correct"
      ]
     },
     "metadata": {},
     "output_type": "display_data"
    }
   ],
   "source": [
    "countries = reviews.country.unique()\n",
    "\n",
    "# Check your answer\n",
    "q2.check()"
   ]
  },
  {
   "cell_type": "code",
   "execution_count": 5,
   "id": "c1cf25b0",
   "metadata": {
    "execution": {
     "iopub.execute_input": "2022-11-15T00:43:54.499422Z",
     "iopub.status.busy": "2022-11-15T00:43:54.498269Z",
     "iopub.status.idle": "2022-11-15T00:43:54.502965Z",
     "shell.execute_reply": "2022-11-15T00:43:54.501920Z"
    },
    "papermill": {
     "duration": 0.015586,
     "end_time": "2022-11-15T00:43:54.505373",
     "exception": false,
     "start_time": "2022-11-15T00:43:54.489787",
     "status": "completed"
    },
    "tags": []
   },
   "outputs": [],
   "source": [
    "#q2.hint()\n",
    "# q2.solution()"
   ]
  },
  {
   "cell_type": "markdown",
   "id": "6636ce9a",
   "metadata": {
    "papermill": {
     "duration": 0.006893,
     "end_time": "2022-11-15T00:43:54.519562",
     "exception": false,
     "start_time": "2022-11-15T00:43:54.512669",
     "status": "completed"
    },
    "tags": []
   },
   "source": [
    "## 3.\n",
    "How often does each country appear in the dataset? Create a Series `reviews_per_country` mapping countries to the count of reviews of wines from that country."
   ]
  },
  {
   "cell_type": "code",
   "execution_count": 6,
   "id": "636d292c",
   "metadata": {
    "execution": {
     "iopub.execute_input": "2022-11-15T00:43:54.536061Z",
     "iopub.status.busy": "2022-11-15T00:43:54.535406Z",
     "iopub.status.idle": "2022-11-15T00:43:54.553006Z",
     "shell.execute_reply": "2022-11-15T00:43:54.551685Z"
    },
    "papermill": {
     "duration": 0.028796,
     "end_time": "2022-11-15T00:43:54.555443",
     "exception": false,
     "start_time": "2022-11-15T00:43:54.526647",
     "status": "completed"
    },
    "tags": []
   },
   "outputs": [
    {
     "data": {
      "application/javascript": [
       "parent.postMessage({\"jupyterEvent\": \"custom.exercise_interaction\", \"data\": {\"outcomeType\": 1, \"valueTowardsCompletion\": 0.14285714285714285, \"interactionType\": 1, \"questionType\": 1, \"questionId\": \"3_ReviewsPerCountry\", \"learnToolsVersion\": \"0.3.4\", \"failureMessage\": \"\", \"exceptionClass\": \"\", \"trace\": \"\"}}, \"*\")"
      ],
      "text/plain": [
       "<IPython.core.display.Javascript object>"
      ]
     },
     "metadata": {},
     "output_type": "display_data"
    },
    {
     "data": {
      "text/markdown": [
       "<span style=\"color:#33cc33\">Correct</span>"
      ],
      "text/plain": [
       "Correct"
      ]
     },
     "metadata": {},
     "output_type": "display_data"
    }
   ],
   "source": [
    "reviews_per_country = reviews.country.value_counts()\n",
    "# Check your answer\n",
    "q3.check()"
   ]
  },
  {
   "cell_type": "code",
   "execution_count": 7,
   "id": "f59f8612",
   "metadata": {
    "execution": {
     "iopub.execute_input": "2022-11-15T00:43:54.572511Z",
     "iopub.status.busy": "2022-11-15T00:43:54.572117Z",
     "iopub.status.idle": "2022-11-15T00:43:54.576153Z",
     "shell.execute_reply": "2022-11-15T00:43:54.575037Z"
    },
    "papermill": {
     "duration": 0.015489,
     "end_time": "2022-11-15T00:43:54.578338",
     "exception": false,
     "start_time": "2022-11-15T00:43:54.562849",
     "status": "completed"
    },
    "tags": []
   },
   "outputs": [],
   "source": [
    "#q3.hint()\n",
    "#q3.solution()"
   ]
  },
  {
   "cell_type": "markdown",
   "id": "db06d10f",
   "metadata": {
    "papermill": {
     "duration": 0.007225,
     "end_time": "2022-11-15T00:43:54.593209",
     "exception": false,
     "start_time": "2022-11-15T00:43:54.585984",
     "status": "completed"
    },
    "tags": []
   },
   "source": [
    "## 4.\n",
    "Create variable `centered_price` containing a version of the `price` column with the mean price subtracted.\n",
    "\n",
    "(Note: this 'centering' transformation is a common preprocessing step before applying various machine learning algorithms.) "
   ]
  },
  {
   "cell_type": "code",
   "execution_count": 8,
   "id": "a566cf3d",
   "metadata": {
    "execution": {
     "iopub.execute_input": "2022-11-15T00:43:54.610218Z",
     "iopub.status.busy": "2022-11-15T00:43:54.609796Z",
     "iopub.status.idle": "2022-11-15T00:43:54.620910Z",
     "shell.execute_reply": "2022-11-15T00:43:54.619851Z"
    },
    "papermill": {
     "duration": 0.022697,
     "end_time": "2022-11-15T00:43:54.623457",
     "exception": false,
     "start_time": "2022-11-15T00:43:54.600760",
     "status": "completed"
    },
    "tags": []
   },
   "outputs": [
    {
     "data": {
      "application/javascript": [
       "parent.postMessage({\"jupyterEvent\": \"custom.exercise_interaction\", \"data\": {\"outcomeType\": 1, \"valueTowardsCompletion\": 0.14285714285714285, \"interactionType\": 1, \"questionType\": 1, \"questionId\": \"4_CenteredPrice\", \"learnToolsVersion\": \"0.3.4\", \"failureMessage\": \"\", \"exceptionClass\": \"\", \"trace\": \"\"}}, \"*\")"
      ],
      "text/plain": [
       "<IPython.core.display.Javascript object>"
      ]
     },
     "metadata": {},
     "output_type": "display_data"
    },
    {
     "data": {
      "text/markdown": [
       "<span style=\"color:#33cc33\">Correct</span>"
      ],
      "text/plain": [
       "Correct"
      ]
     },
     "metadata": {},
     "output_type": "display_data"
    }
   ],
   "source": [
    "centered_price = reviews.price - reviews.price.mean()\n",
    "# Check your answer\n",
    "q4.check()"
   ]
  },
  {
   "cell_type": "code",
   "execution_count": 9,
   "id": "cdc07209",
   "metadata": {
    "execution": {
     "iopub.execute_input": "2022-11-15T00:43:54.641311Z",
     "iopub.status.busy": "2022-11-15T00:43:54.640905Z",
     "iopub.status.idle": "2022-11-15T00:43:54.649562Z",
     "shell.execute_reply": "2022-11-15T00:43:54.648296Z"
    },
    "papermill": {
     "duration": 0.02072,
     "end_time": "2022-11-15T00:43:54.652073",
     "exception": false,
     "start_time": "2022-11-15T00:43:54.631353",
     "status": "completed"
    },
    "tags": []
   },
   "outputs": [
    {
     "data": {
      "text/plain": [
       "0               NaN\n",
       "1        -20.363389\n",
       "            ...    \n",
       "129969    -3.363389\n",
       "129970   -14.363389\n",
       "Name: price, Length: 129971, dtype: float64"
      ]
     },
     "execution_count": 9,
     "metadata": {},
     "output_type": "execute_result"
    }
   ],
   "source": [
    "centered_price"
   ]
  },
  {
   "cell_type": "code",
   "execution_count": 10,
   "id": "451870d7",
   "metadata": {
    "execution": {
     "iopub.execute_input": "2022-11-15T00:43:54.669735Z",
     "iopub.status.busy": "2022-11-15T00:43:54.669309Z",
     "iopub.status.idle": "2022-11-15T00:43:54.674143Z",
     "shell.execute_reply": "2022-11-15T00:43:54.673012Z"
    },
    "papermill": {
     "duration": 0.016525,
     "end_time": "2022-11-15T00:43:54.676571",
     "exception": false,
     "start_time": "2022-11-15T00:43:54.660046",
     "status": "completed"
    },
    "tags": []
   },
   "outputs": [],
   "source": [
    "#q4.hint()\n",
    "# q4.solution()"
   ]
  },
  {
   "cell_type": "markdown",
   "id": "6ec58e97",
   "metadata": {
    "papermill": {
     "duration": 0.007495,
     "end_time": "2022-11-15T00:43:54.691852",
     "exception": false,
     "start_time": "2022-11-15T00:43:54.684357",
     "status": "completed"
    },
    "tags": []
   },
   "source": [
    "## 5.\n",
    "I'm an economical wine buyer. Which wine is the \"best bargain\"? Create a variable `bargain_wine` with the title of the wine with the highest points-to-price ratio in the dataset."
   ]
  },
  {
   "cell_type": "code",
   "execution_count": 11,
   "id": "2f01aeca",
   "metadata": {
    "execution": {
     "iopub.execute_input": "2022-11-15T00:43:54.709684Z",
     "iopub.status.busy": "2022-11-15T00:43:54.708851Z",
     "iopub.status.idle": "2022-11-15T00:43:54.722848Z",
     "shell.execute_reply": "2022-11-15T00:43:54.721822Z"
    },
    "papermill": {
     "duration": 0.025104,
     "end_time": "2022-11-15T00:43:54.724914",
     "exception": false,
     "start_time": "2022-11-15T00:43:54.699810",
     "status": "completed"
    },
    "tags": []
   },
   "outputs": [
    {
     "data": {
      "application/javascript": [
       "parent.postMessage({\"jupyterEvent\": \"custom.exercise_interaction\", \"data\": {\"outcomeType\": 1, \"valueTowardsCompletion\": 0.14285714285714285, \"interactionType\": 1, \"questionType\": 2, \"questionId\": \"5_BargainWine\", \"learnToolsVersion\": \"0.3.4\", \"failureMessage\": \"\", \"exceptionClass\": \"\", \"trace\": \"\"}}, \"*\")"
      ],
      "text/plain": [
       "<IPython.core.display.Javascript object>"
      ]
     },
     "metadata": {},
     "output_type": "display_data"
    },
    {
     "data": {
      "text/markdown": [
       "<span style=\"color:#33cc33\">Correct</span>"
      ],
      "text/plain": [
       "Correct"
      ]
     },
     "metadata": {},
     "output_type": "display_data"
    }
   ],
   "source": [
    "bargain_wine = reviews.loc[(reviews.points / reviews.price).idxmax(), 'title']\n",
    "\n",
    "\n",
    "# Check your answer\n",
    "q5.check()"
   ]
  },
  {
   "cell_type": "code",
   "execution_count": 12,
   "id": "eda4c173",
   "metadata": {
    "execution": {
     "iopub.execute_input": "2022-11-15T00:43:54.743164Z",
     "iopub.status.busy": "2022-11-15T00:43:54.742787Z",
     "iopub.status.idle": "2022-11-15T00:43:54.746360Z",
     "shell.execute_reply": "2022-11-15T00:43:54.745464Z"
    },
    "papermill": {
     "duration": 0.015285,
     "end_time": "2022-11-15T00:43:54.748556",
     "exception": false,
     "start_time": "2022-11-15T00:43:54.733271",
     "status": "completed"
    },
    "tags": []
   },
   "outputs": [],
   "source": [
    "#q5.hint()\n",
    "# q5.solution()"
   ]
  },
  {
   "cell_type": "markdown",
   "id": "6da29853",
   "metadata": {
    "papermill": {
     "duration": 0.007829,
     "end_time": "2022-11-15T00:43:54.764632",
     "exception": false,
     "start_time": "2022-11-15T00:43:54.756803",
     "status": "completed"
    },
    "tags": []
   },
   "source": [
    "## 6.\n",
    "There are only so many words you can use when describing a bottle of wine. Is a wine more likely to be \"tropical\" or \"fruity\"? Create a Series `descriptor_counts` counting how many times each of these two words appears in the `description` column in the dataset. (For simplicity, let's ignore the capitalized versions of these words.)"
   ]
  },
  {
   "cell_type": "code",
   "execution_count": 13,
   "id": "96cd078f",
   "metadata": {
    "execution": {
     "iopub.execute_input": "2022-11-15T00:43:54.782791Z",
     "iopub.status.busy": "2022-11-15T00:43:54.782128Z",
     "iopub.status.idle": "2022-11-15T00:43:54.927358Z",
     "shell.execute_reply": "2022-11-15T00:43:54.925965Z"
    },
    "papermill": {
     "duration": 0.157035,
     "end_time": "2022-11-15T00:43:54.929657",
     "exception": false,
     "start_time": "2022-11-15T00:43:54.772622",
     "status": "completed"
    },
    "tags": []
   },
   "outputs": [
    {
     "data": {
      "application/javascript": [
       "parent.postMessage({\"jupyterEvent\": \"custom.exercise_interaction\", \"data\": {\"outcomeType\": 1, \"valueTowardsCompletion\": 0.14285714285714285, \"interactionType\": 1, \"questionType\": 1, \"questionId\": \"6_DescriptorCounts\", \"learnToolsVersion\": \"0.3.4\", \"failureMessage\": \"\", \"exceptionClass\": \"\", \"trace\": \"\"}}, \"*\")"
      ],
      "text/plain": [
       "<IPython.core.display.Javascript object>"
      ]
     },
     "metadata": {},
     "output_type": "display_data"
    },
    {
     "data": {
      "text/markdown": [
       "<span style=\"color:#33cc33\">Correct</span>"
      ],
      "text/plain": [
       "Correct"
      ]
     },
     "metadata": {},
     "output_type": "display_data"
    }
   ],
   "source": [
    "descriptor_counts = pd.Series([reviews.description.map(lambda desc: \"tropical\" in desc).sum(), reviews.description.map(lambda desc: \"fruity\" in desc).sum()], index=['tropical', 'fruity'])\n",
    "\n",
    "# Check your answer\n",
    "q6.check()"
   ]
  },
  {
   "cell_type": "code",
   "execution_count": 14,
   "id": "f0d0a088",
   "metadata": {
    "execution": {
     "iopub.execute_input": "2022-11-15T00:43:54.948214Z",
     "iopub.status.busy": "2022-11-15T00:43:54.947831Z",
     "iopub.status.idle": "2022-11-15T00:43:54.952311Z",
     "shell.execute_reply": "2022-11-15T00:43:54.951157Z"
    },
    "papermill": {
     "duration": 0.016512,
     "end_time": "2022-11-15T00:43:54.954634",
     "exception": false,
     "start_time": "2022-11-15T00:43:54.938122",
     "status": "completed"
    },
    "tags": []
   },
   "outputs": [],
   "source": [
    "#q6.hint()\n",
    "# q6.solution()"
   ]
  },
  {
   "cell_type": "markdown",
   "id": "4c01ce9f",
   "metadata": {
    "papermill": {
     "duration": 0.008063,
     "end_time": "2022-11-15T00:43:54.971146",
     "exception": false,
     "start_time": "2022-11-15T00:43:54.963083",
     "status": "completed"
    },
    "tags": []
   },
   "source": [
    "## 7.\n",
    "We'd like to host these wine reviews on our website, but a rating system ranging from 80 to 100 points is too hard to understand - we'd like to translate them into simple star ratings. A score of 95 or higher counts as 3 stars, a score of at least 85 but less than 95 is 2 stars. Any other score is 1 star.\n",
    "\n",
    "Also, the Canadian Vintners Association bought a lot of ads on the site, so any wines from Canada should automatically get 3 stars, regardless of points.\n",
    "\n",
    "Create a series `star_ratings` with the number of stars corresponding to each review in the dataset."
   ]
  },
  {
   "cell_type": "code",
   "execution_count": 15,
   "id": "476a53db",
   "metadata": {
    "execution": {
     "iopub.execute_input": "2022-11-15T00:43:54.989668Z",
     "iopub.status.busy": "2022-11-15T00:43:54.989254Z",
     "iopub.status.idle": "2022-11-15T00:43:54.995012Z",
     "shell.execute_reply": "2022-11-15T00:43:54.993894Z"
    },
    "papermill": {
     "duration": 0.017921,
     "end_time": "2022-11-15T00:43:54.997360",
     "exception": false,
     "start_time": "2022-11-15T00:43:54.979439",
     "status": "completed"
    },
    "tags": []
   },
   "outputs": [],
   "source": [
    "def rating(row):\n",
    "    if row.country == 'Canada':\n",
    "        return 3\n",
    "    elif row.points >= 95:\n",
    "        return 3\n",
    "    elif row.points >= 85:\n",
    "        return 2\n",
    "    else:\n",
    "        return 1"
   ]
  },
  {
   "cell_type": "code",
   "execution_count": 16,
   "id": "10a5a573",
   "metadata": {
    "execution": {
     "iopub.execute_input": "2022-11-15T00:43:55.016495Z",
     "iopub.status.busy": "2022-11-15T00:43:55.016100Z",
     "iopub.status.idle": "2022-11-15T00:43:58.901299Z",
     "shell.execute_reply": "2022-11-15T00:43:58.900240Z"
    },
    "papermill": {
     "duration": 3.897722,
     "end_time": "2022-11-15T00:43:58.903869",
     "exception": false,
     "start_time": "2022-11-15T00:43:55.006147",
     "status": "completed"
    },
    "tags": []
   },
   "outputs": [
    {
     "data": {
      "application/javascript": [
       "parent.postMessage({\"jupyterEvent\": \"custom.exercise_interaction\", \"data\": {\"outcomeType\": 1, \"valueTowardsCompletion\": 0.14285714285714285, \"interactionType\": 1, \"questionType\": 1, \"questionId\": \"7_StarRatings\", \"learnToolsVersion\": \"0.3.4\", \"failureMessage\": \"\", \"exceptionClass\": \"\", \"trace\": \"\"}}, \"*\")"
      ],
      "text/plain": [
       "<IPython.core.display.Javascript object>"
      ]
     },
     "metadata": {},
     "output_type": "display_data"
    },
    {
     "data": {
      "text/markdown": [
       "<span style=\"color:#33cc33\">Correct</span>"
      ],
      "text/plain": [
       "Correct"
      ]
     },
     "metadata": {},
     "output_type": "display_data"
    }
   ],
   "source": [
    "star_ratings  = reviews.apply(rating, axis='columns')\n",
    "\n",
    "# Check your answer\n",
    "q7.check()"
   ]
  },
  {
   "cell_type": "code",
   "execution_count": 17,
   "id": "10e53413",
   "metadata": {
    "execution": {
     "iopub.execute_input": "2022-11-15T00:43:58.923268Z",
     "iopub.status.busy": "2022-11-15T00:43:58.922832Z",
     "iopub.status.idle": "2022-11-15T00:43:58.927636Z",
     "shell.execute_reply": "2022-11-15T00:43:58.926275Z"
    },
    "papermill": {
     "duration": 0.017648,
     "end_time": "2022-11-15T00:43:58.930295",
     "exception": false,
     "start_time": "2022-11-15T00:43:58.912647",
     "status": "completed"
    },
    "tags": []
   },
   "outputs": [],
   "source": [
    "#q7.hint()\n",
    "# q7.solution()"
   ]
  },
  {
   "cell_type": "markdown",
   "id": "8904b35f",
   "metadata": {
    "papermill": {
     "duration": 0.008305,
     "end_time": "2022-11-15T00:43:58.947585",
     "exception": false,
     "start_time": "2022-11-15T00:43:58.939280",
     "status": "completed"
    },
    "tags": []
   },
   "source": [
    "# Keep going\n",
    "Continue to **[grouping and sorting](https://www.kaggle.com/residentmario/grouping-and-sorting)**."
   ]
  },
  {
   "cell_type": "markdown",
   "id": "1a506bdf",
   "metadata": {
    "papermill": {
     "duration": 0.008272,
     "end_time": "2022-11-15T00:43:58.964640",
     "exception": false,
     "start_time": "2022-11-15T00:43:58.956368",
     "status": "completed"
    },
    "tags": []
   },
   "source": [
    "---\n",
    "\n",
    "\n",
    "\n",
    "\n",
    "*Have questions or comments? Visit the [course discussion forum](https://www.kaggle.com/learn/pandas/discussion) to chat with other learners.*"
   ]
  }
 ],
 "metadata": {
  "kernelspec": {
   "display_name": "Python 3",
   "language": "python",
   "name": "python3"
  },
  "language_info": {
   "codemirror_mode": {
    "name": "ipython",
    "version": 3
   },
   "file_extension": ".py",
   "mimetype": "text/x-python",
   "name": "python",
   "nbconvert_exporter": "python",
   "pygments_lexer": "ipython3",
   "version": "3.7.12"
  },
  "papermill": {
   "default_parameters": {},
   "duration": 21.134185,
   "end_time": "2022-11-15T00:43:59.695390",
   "environment_variables": {},
   "exception": null,
   "input_path": "__notebook__.ipynb",
   "output_path": "__notebook__.ipynb",
   "parameters": {},
   "start_time": "2022-11-15T00:43:38.561205",
   "version": "2.3.4"
  }
 },
 "nbformat": 4,
 "nbformat_minor": 5
}
