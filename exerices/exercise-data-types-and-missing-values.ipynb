{
 "cells": [
  {
   "cell_type": "markdown",
   "id": "283ea03f",
   "metadata": {
    "papermill": {
     "duration": 0.005586,
     "end_time": "2022-11-15T00:44:15.196442",
     "exception": false,
     "start_time": "2022-11-15T00:44:15.190856",
     "status": "completed"
    },
    "tags": []
   },
   "source": [
    "**This notebook is an exercise in the [Pandas](https://www.kaggle.com/learn/pandas) course.  You can reference the tutorial at [this link](https://www.kaggle.com/residentmario/data-types-and-missing-values).**\n",
    "\n",
    "---\n"
   ]
  },
  {
   "cell_type": "markdown",
   "id": "f1162e94",
   "metadata": {
    "papermill": {
     "duration": 0.003953,
     "end_time": "2022-11-15T00:44:15.204975",
     "exception": false,
     "start_time": "2022-11-15T00:44:15.201022",
     "status": "completed"
    },
    "tags": []
   },
   "source": [
    "# Introduction\n",
    "\n",
    "Run the following cell to load your data and some utility functions."
   ]
  },
  {
   "cell_type": "code",
   "execution_count": 1,
   "id": "cd8ab46c",
   "metadata": {
    "execution": {
     "iopub.execute_input": "2022-11-15T00:44:15.216022Z",
     "iopub.status.busy": "2022-11-15T00:44:15.215313Z",
     "iopub.status.idle": "2022-11-15T00:44:18.484295Z",
     "shell.execute_reply": "2022-11-15T00:44:18.482985Z"
    },
    "papermill": {
     "duration": 3.277427,
     "end_time": "2022-11-15T00:44:18.486945",
     "exception": false,
     "start_time": "2022-11-15T00:44:15.209518",
     "status": "completed"
    },
    "tags": []
   },
   "outputs": [
    {
     "name": "stdout",
     "output_type": "stream",
     "text": [
      "Setup complete.\n"
     ]
    }
   ],
   "source": [
    "import pandas as pd\n",
    "\n",
    "reviews = pd.read_csv(\"../input/wine-reviews/winemag-data-130k-v2.csv\", index_col=0)\n",
    "\n",
    "from learntools.core import binder; binder.bind(globals())\n",
    "from learntools.pandas.data_types_and_missing_data import *\n",
    "print(\"Setup complete.\")"
   ]
  },
  {
   "cell_type": "markdown",
   "id": "7bab33d6",
   "metadata": {
    "papermill": {
     "duration": 0.004093,
     "end_time": "2022-11-15T00:44:18.495874",
     "exception": false,
     "start_time": "2022-11-15T00:44:18.491781",
     "status": "completed"
    },
    "tags": []
   },
   "source": [
    "# Exercises"
   ]
  },
  {
   "cell_type": "markdown",
   "id": "21f98224",
   "metadata": {
    "papermill": {
     "duration": 0.003948,
     "end_time": "2022-11-15T00:44:18.504090",
     "exception": false,
     "start_time": "2022-11-15T00:44:18.500142",
     "status": "completed"
    },
    "tags": []
   },
   "source": [
    "## 1. \n",
    "What is the data type of the `points` column in the dataset?"
   ]
  },
  {
   "cell_type": "code",
   "execution_count": 2,
   "id": "e5fb9853",
   "metadata": {
    "execution": {
     "iopub.execute_input": "2022-11-15T00:44:18.516097Z",
     "iopub.status.busy": "2022-11-15T00:44:18.514126Z",
     "iopub.status.idle": "2022-11-15T00:44:18.528403Z",
     "shell.execute_reply": "2022-11-15T00:44:18.526984Z"
    },
    "papermill": {
     "duration": 0.024122,
     "end_time": "2022-11-15T00:44:18.532394",
     "exception": false,
     "start_time": "2022-11-15T00:44:18.508272",
     "status": "completed"
    },
    "tags": []
   },
   "outputs": [
    {
     "data": {
      "application/javascript": [
       "parent.postMessage({\"jupyterEvent\": \"custom.exercise_interaction\", \"data\": {\"outcomeType\": 1, \"valueTowardsCompletion\": 0.25, \"interactionType\": 1, \"questionType\": 1, \"questionId\": \"1_PointsDtype\", \"learnToolsVersion\": \"0.3.4\", \"failureMessage\": \"\", \"exceptionClass\": \"\", \"trace\": \"\"}}, \"*\")"
      ],
      "text/plain": [
       "<IPython.core.display.Javascript object>"
      ]
     },
     "metadata": {},
     "output_type": "display_data"
    },
    {
     "data": {
      "text/markdown": [
       "<span style=\"color:#33cc33\">Correct</span>"
      ],
      "text/plain": [
       "Correct"
      ]
     },
     "metadata": {},
     "output_type": "display_data"
    }
   ],
   "source": [
    "# Your code here\n",
    "dtype = reviews.points.dtype\n",
    "\n",
    "# Check your answer\n",
    "q1.check()"
   ]
  },
  {
   "cell_type": "code",
   "execution_count": 3,
   "id": "24b0f8e9",
   "metadata": {
    "execution": {
     "iopub.execute_input": "2022-11-15T00:44:18.547748Z",
     "iopub.status.busy": "2022-11-15T00:44:18.547298Z",
     "iopub.status.idle": "2022-11-15T00:44:18.551942Z",
     "shell.execute_reply": "2022-11-15T00:44:18.550958Z"
    },
    "papermill": {
     "duration": 0.017093,
     "end_time": "2022-11-15T00:44:18.554456",
     "exception": false,
     "start_time": "2022-11-15T00:44:18.537363",
     "status": "completed"
    },
    "tags": []
   },
   "outputs": [],
   "source": [
    "#q1.hint()\n",
    "# q1.solution()"
   ]
  },
  {
   "cell_type": "markdown",
   "id": "c3eac1f8",
   "metadata": {
    "papermill": {
     "duration": 0.004263,
     "end_time": "2022-11-15T00:44:18.563405",
     "exception": false,
     "start_time": "2022-11-15T00:44:18.559142",
     "status": "completed"
    },
    "tags": []
   },
   "source": [
    "## 2. \n",
    "Create a Series from entries in the `points` column, but convert the entries to strings. Hint: strings are `str` in native Python."
   ]
  },
  {
   "cell_type": "code",
   "execution_count": 4,
   "id": "7e3439ce",
   "metadata": {
    "execution": {
     "iopub.execute_input": "2022-11-15T00:44:18.574810Z",
     "iopub.status.busy": "2022-11-15T00:44:18.574013Z",
     "iopub.status.idle": "2022-11-15T00:44:18.671059Z",
     "shell.execute_reply": "2022-11-15T00:44:18.669943Z"
    },
    "papermill": {
     "duration": 0.105464,
     "end_time": "2022-11-15T00:44:18.673404",
     "exception": false,
     "start_time": "2022-11-15T00:44:18.567940",
     "status": "completed"
    },
    "tags": []
   },
   "outputs": [
    {
     "data": {
      "application/javascript": [
       "parent.postMessage({\"jupyterEvent\": \"custom.exercise_interaction\", \"data\": {\"outcomeType\": 1, \"valueTowardsCompletion\": 0.25, \"interactionType\": 1, \"questionType\": 1, \"questionId\": \"2_StrPoints\", \"learnToolsVersion\": \"0.3.4\", \"failureMessage\": \"\", \"exceptionClass\": \"\", \"trace\": \"\"}}, \"*\")"
      ],
      "text/plain": [
       "<IPython.core.display.Javascript object>"
      ]
     },
     "metadata": {},
     "output_type": "display_data"
    },
    {
     "data": {
      "text/markdown": [
       "<span style=\"color:#33cc33\">Correct</span>"
      ],
      "text/plain": [
       "Correct"
      ]
     },
     "metadata": {},
     "output_type": "display_data"
    }
   ],
   "source": [
    "point_strings = reviews.points.astype(str)\n",
    "\n",
    "# Check your answer\n",
    "q2.check()"
   ]
  },
  {
   "cell_type": "code",
   "execution_count": 5,
   "id": "ddb358a2",
   "metadata": {
    "execution": {
     "iopub.execute_input": "2022-11-15T00:44:18.684437Z",
     "iopub.status.busy": "2022-11-15T00:44:18.684069Z",
     "iopub.status.idle": "2022-11-15T00:44:18.688826Z",
     "shell.execute_reply": "2022-11-15T00:44:18.687640Z"
    },
    "papermill": {
     "duration": 0.012951,
     "end_time": "2022-11-15T00:44:18.691172",
     "exception": false,
     "start_time": "2022-11-15T00:44:18.678221",
     "status": "completed"
    },
    "tags": []
   },
   "outputs": [],
   "source": [
    "#q2.hint()\n",
    "# q2.solution()"
   ]
  },
  {
   "cell_type": "markdown",
   "id": "ab129a1c",
   "metadata": {
    "papermill": {
     "duration": 0.005401,
     "end_time": "2022-11-15T00:44:18.701660",
     "exception": false,
     "start_time": "2022-11-15T00:44:18.696259",
     "status": "completed"
    },
    "tags": []
   },
   "source": [
    "## 3.\n",
    "Sometimes the price column is null. How many reviews in the dataset are missing a price?"
   ]
  },
  {
   "cell_type": "code",
   "execution_count": 6,
   "id": "3b9bcd04",
   "metadata": {
    "execution": {
     "iopub.execute_input": "2022-11-15T00:44:18.717305Z",
     "iopub.status.busy": "2022-11-15T00:44:18.716455Z",
     "iopub.status.idle": "2022-11-15T00:44:18.729194Z",
     "shell.execute_reply": "2022-11-15T00:44:18.728384Z"
    },
    "papermill": {
     "duration": 0.024786,
     "end_time": "2022-11-15T00:44:18.732973",
     "exception": false,
     "start_time": "2022-11-15T00:44:18.708187",
     "status": "completed"
    },
    "tags": []
   },
   "outputs": [
    {
     "data": {
      "application/javascript": [
       "parent.postMessage({\"jupyterEvent\": \"custom.exercise_interaction\", \"data\": {\"outcomeType\": 1, \"valueTowardsCompletion\": 0.25, \"interactionType\": 1, \"questionType\": 1, \"questionId\": \"3_CountMissingPrices\", \"learnToolsVersion\": \"0.3.4\", \"failureMessage\": \"\", \"exceptionClass\": \"\", \"trace\": \"\"}}, \"*\")"
      ],
      "text/plain": [
       "<IPython.core.display.Javascript object>"
      ]
     },
     "metadata": {},
     "output_type": "display_data"
    },
    {
     "data": {
      "text/markdown": [
       "<span style=\"color:#33cc33\">Correct</span>"
      ],
      "text/plain": [
       "Correct"
      ]
     },
     "metadata": {},
     "output_type": "display_data"
    }
   ],
   "source": [
    "n_missing_prices = pd.isnull(reviews.price).sum()\n",
    "\n",
    "# Check your answer\n",
    "q3.check()"
   ]
  },
  {
   "cell_type": "code",
   "execution_count": 7,
   "id": "d7fdb257",
   "metadata": {
    "execution": {
     "iopub.execute_input": "2022-11-15T00:44:18.748493Z",
     "iopub.status.busy": "2022-11-15T00:44:18.748082Z",
     "iopub.status.idle": "2022-11-15T00:44:18.752183Z",
     "shell.execute_reply": "2022-11-15T00:44:18.751013Z"
    },
    "papermill": {
     "duration": 0.014384,
     "end_time": "2022-11-15T00:44:18.755204",
     "exception": false,
     "start_time": "2022-11-15T00:44:18.740820",
     "status": "completed"
    },
    "tags": []
   },
   "outputs": [],
   "source": [
    "#q3.hint()\n",
    "# q3.solution()"
   ]
  },
  {
   "cell_type": "markdown",
   "id": "62355297",
   "metadata": {
    "papermill": {
     "duration": 0.007025,
     "end_time": "2022-11-15T00:44:18.771011",
     "exception": false,
     "start_time": "2022-11-15T00:44:18.763986",
     "status": "completed"
    },
    "tags": []
   },
   "source": [
    "## 4.\n",
    "What are the most common wine-producing regions? Create a Series counting the number of times each value occurs in the `region_1` field. This field is often missing data, so replace missing values with `Unknown`. Sort in descending order.  Your output should look something like this:\n",
    "\n",
    "```\n",
    "Unknown                    21247\n",
    "Napa Valley                 4480\n",
    "                           ...  \n",
    "Bardolino Superiore            1\n",
    "Primitivo del Tarantino        1\n",
    "Name: region_1, Length: 1230, dtype: int64\n",
    "```"
   ]
  },
  {
   "cell_type": "code",
   "execution_count": 8,
   "id": "8fcc1a75",
   "metadata": {
    "execution": {
     "iopub.execute_input": "2022-11-15T00:44:18.788946Z",
     "iopub.status.busy": "2022-11-15T00:44:18.788458Z",
     "iopub.status.idle": "2022-11-15T00:44:18.833742Z",
     "shell.execute_reply": "2022-11-15T00:44:18.832598Z"
    },
    "papermill": {
     "duration": 0.058112,
     "end_time": "2022-11-15T00:44:18.836532",
     "exception": false,
     "start_time": "2022-11-15T00:44:18.778420",
     "status": "completed"
    },
    "tags": []
   },
   "outputs": [
    {
     "data": {
      "application/javascript": [
       "parent.postMessage({\"jupyterEvent\": \"custom.exercise_interaction\", \"data\": {\"outcomeType\": 1, \"valueTowardsCompletion\": 0.25, \"interactionType\": 1, \"questionType\": 2, \"questionId\": \"4_ReviewsPerRegion\", \"learnToolsVersion\": \"0.3.4\", \"failureMessage\": \"\", \"exceptionClass\": \"\", \"trace\": \"\"}}, \"*\")"
      ],
      "text/plain": [
       "<IPython.core.display.Javascript object>"
      ]
     },
     "metadata": {},
     "output_type": "display_data"
    },
    {
     "data": {
      "text/markdown": [
       "<span style=\"color:#33cc33\">Correct</span>"
      ],
      "text/plain": [
       "Correct"
      ]
     },
     "metadata": {},
     "output_type": "display_data"
    }
   ],
   "source": [
    "reviews_per_region = reviews.region_1.fillna('Unknown').value_counts().sort_values(ascending=False)\n",
    "\n",
    "# Check your answer\n",
    "q4.check()"
   ]
  },
  {
   "cell_type": "code",
   "execution_count": 9,
   "id": "20798a5e",
   "metadata": {
    "execution": {
     "iopub.execute_input": "2022-11-15T00:44:18.854120Z",
     "iopub.status.busy": "2022-11-15T00:44:18.853645Z",
     "iopub.status.idle": "2022-11-15T00:44:18.859789Z",
     "shell.execute_reply": "2022-11-15T00:44:18.858850Z"
    },
    "papermill": {
     "duration": 0.017829,
     "end_time": "2022-11-15T00:44:18.862288",
     "exception": false,
     "start_time": "2022-11-15T00:44:18.844459",
     "status": "completed"
    },
    "tags": []
   },
   "outputs": [],
   "source": [
    "#q4.hint()\n",
    "# q4.solution()"
   ]
  },
  {
   "cell_type": "markdown",
   "id": "fb48cb48",
   "metadata": {
    "papermill": {
     "duration": 0.005161,
     "end_time": "2022-11-15T00:44:18.872923",
     "exception": false,
     "start_time": "2022-11-15T00:44:18.867762",
     "status": "completed"
    },
    "tags": []
   },
   "source": [
    "# Keep going\n",
    "\n",
    "Move on to **[renaming and combining](https://www.kaggle.com/residentmario/renaming-and-combining)**."
   ]
  },
  {
   "cell_type": "markdown",
   "id": "d3f9de36",
   "metadata": {
    "papermill": {
     "duration": 0.005182,
     "end_time": "2022-11-15T00:44:18.883432",
     "exception": false,
     "start_time": "2022-11-15T00:44:18.878250",
     "status": "completed"
    },
    "tags": []
   },
   "source": [
    "---\n",
    "\n",
    "\n",
    "\n",
    "\n",
    "*Have questions or comments? Visit the [course discussion forum](https://www.kaggle.com/learn/pandas/discussion) to chat with other learners.*"
   ]
  }
 ],
 "metadata": {
  "kernelspec": {
   "display_name": "Python 3",
   "language": "python",
   "name": "python3"
  },
  "language_info": {
   "codemirror_mode": {
    "name": "ipython",
    "version": 3
   },
   "file_extension": ".py",
   "mimetype": "text/x-python",
   "name": "python",
   "nbconvert_exporter": "python",
   "pygments_lexer": "ipython3",
   "version": "3.7.12"
  },
  "papermill": {
   "default_parameters": {},
   "duration": 13.405513,
   "end_time": "2022-11-15T00:44:19.609575",
   "environment_variables": {},
   "exception": null,
   "input_path": "__notebook__.ipynb",
   "output_path": "__notebook__.ipynb",
   "parameters": {},
   "start_time": "2022-11-15T00:44:06.204062",
   "version": "2.3.4"
  }
 },
 "nbformat": 4,
 "nbformat_minor": 5
}
