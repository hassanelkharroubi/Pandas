{
 "cells": [
  {
   "cell_type": "markdown",
   "id": "49149ae2",
   "metadata": {
    "papermill": {
     "duration": 0.006956,
     "end_time": "2022-11-15T00:44:25.399358",
     "exception": false,
     "start_time": "2022-11-15T00:44:25.392402",
     "status": "completed"
    },
    "tags": []
   },
   "source": [
    "**This notebook is an exercise in the [Pandas](https://www.kaggle.com/learn/pandas) course.  You can reference the tutorial at [this link](https://www.kaggle.com/residentmario/renaming-and-combining).**\n",
    "\n",
    "---\n"
   ]
  },
  {
   "cell_type": "markdown",
   "id": "dc588ede",
   "metadata": {
    "papermill": {
     "duration": 0.005239,
     "end_time": "2022-11-15T00:44:25.410469",
     "exception": false,
     "start_time": "2022-11-15T00:44:25.405230",
     "status": "completed"
    },
    "tags": []
   },
   "source": [
    "# Introduction\n",
    "\n",
    "Run the following cell to load your data and some utility functions."
   ]
  },
  {
   "cell_type": "code",
   "execution_count": 1,
   "id": "8abe5744",
   "metadata": {
    "execution": {
     "iopub.execute_input": "2022-11-15T00:44:25.425597Z",
     "iopub.status.busy": "2022-11-15T00:44:25.423920Z",
     "iopub.status.idle": "2022-11-15T00:44:30.307950Z",
     "shell.execute_reply": "2022-11-15T00:44:30.306956Z"
    },
    "papermill": {
     "duration": 4.894956,
     "end_time": "2022-11-15T00:44:30.311138",
     "exception": false,
     "start_time": "2022-11-15T00:44:25.416182",
     "status": "completed"
    },
    "tags": []
   },
   "outputs": [
    {
     "name": "stdout",
     "output_type": "stream",
     "text": [
      "Setup complete.\n"
     ]
    }
   ],
   "source": [
    "import pandas as pd\n",
    "\n",
    "reviews = pd.read_csv(\"../input/wine-reviews/winemag-data-130k-v2.csv\", index_col=0)\n",
    "\n",
    "from learntools.core import binder; binder.bind(globals())\n",
    "from learntools.pandas.renaming_and_combining import *\n",
    "print(\"Setup complete.\")"
   ]
  },
  {
   "cell_type": "markdown",
   "id": "10dca6ba",
   "metadata": {
    "papermill": {
     "duration": 0.005486,
     "end_time": "2022-11-15T00:44:30.322513",
     "exception": false,
     "start_time": "2022-11-15T00:44:30.317027",
     "status": "completed"
    },
    "tags": []
   },
   "source": [
    "# Exercises\n",
    "\n",
    "View the first several lines of your data by running the cell below:"
   ]
  },
  {
   "cell_type": "code",
   "execution_count": 2,
   "id": "8af56499",
   "metadata": {
    "execution": {
     "iopub.execute_input": "2022-11-15T00:44:30.336779Z",
     "iopub.status.busy": "2022-11-15T00:44:30.335678Z",
     "iopub.status.idle": "2022-11-15T00:44:30.363401Z",
     "shell.execute_reply": "2022-11-15T00:44:30.362506Z"
    },
    "papermill": {
     "duration": 0.037488,
     "end_time": "2022-11-15T00:44:30.365768",
     "exception": false,
     "start_time": "2022-11-15T00:44:30.328280",
     "status": "completed"
    },
    "tags": []
   },
   "outputs": [
    {
     "data": {
      "text/html": [
       "<div>\n",
       "<style scoped>\n",
       "    .dataframe tbody tr th:only-of-type {\n",
       "        vertical-align: middle;\n",
       "    }\n",
       "\n",
       "    .dataframe tbody tr th {\n",
       "        vertical-align: top;\n",
       "    }\n",
       "\n",
       "    .dataframe thead th {\n",
       "        text-align: right;\n",
       "    }\n",
       "</style>\n",
       "<table border=\"1\" class=\"dataframe\">\n",
       "  <thead>\n",
       "    <tr style=\"text-align: right;\">\n",
       "      <th></th>\n",
       "      <th>country</th>\n",
       "      <th>description</th>\n",
       "      <th>designation</th>\n",
       "      <th>points</th>\n",
       "      <th>price</th>\n",
       "      <th>province</th>\n",
       "      <th>region_1</th>\n",
       "      <th>region_2</th>\n",
       "      <th>taster_name</th>\n",
       "      <th>taster_twitter_handle</th>\n",
       "      <th>title</th>\n",
       "      <th>variety</th>\n",
       "      <th>winery</th>\n",
       "    </tr>\n",
       "  </thead>\n",
       "  <tbody>\n",
       "    <tr>\n",
       "      <th>0</th>\n",
       "      <td>Italy</td>\n",
       "      <td>Aromas include tropical fruit, broom, brimston...</td>\n",
       "      <td>Vulkà Bianco</td>\n",
       "      <td>87</td>\n",
       "      <td>NaN</td>\n",
       "      <td>Sicily &amp; Sardinia</td>\n",
       "      <td>Etna</td>\n",
       "      <td>NaN</td>\n",
       "      <td>Kerin O’Keefe</td>\n",
       "      <td>@kerinokeefe</td>\n",
       "      <td>Nicosia 2013 Vulkà Bianco  (Etna)</td>\n",
       "      <td>White Blend</td>\n",
       "      <td>Nicosia</td>\n",
       "    </tr>\n",
       "    <tr>\n",
       "      <th>1</th>\n",
       "      <td>Portugal</td>\n",
       "      <td>This is ripe and fruity, a wine that is smooth...</td>\n",
       "      <td>Avidagos</td>\n",
       "      <td>87</td>\n",
       "      <td>15.0</td>\n",
       "      <td>Douro</td>\n",
       "      <td>NaN</td>\n",
       "      <td>NaN</td>\n",
       "      <td>Roger Voss</td>\n",
       "      <td>@vossroger</td>\n",
       "      <td>Quinta dos Avidagos 2011 Avidagos Red (Douro)</td>\n",
       "      <td>Portuguese Red</td>\n",
       "      <td>Quinta dos Avidagos</td>\n",
       "    </tr>\n",
       "    <tr>\n",
       "      <th>2</th>\n",
       "      <td>US</td>\n",
       "      <td>Tart and snappy, the flavors of lime flesh and...</td>\n",
       "      <td>NaN</td>\n",
       "      <td>87</td>\n",
       "      <td>14.0</td>\n",
       "      <td>Oregon</td>\n",
       "      <td>Willamette Valley</td>\n",
       "      <td>Willamette Valley</td>\n",
       "      <td>Paul Gregutt</td>\n",
       "      <td>@paulgwine</td>\n",
       "      <td>Rainstorm 2013 Pinot Gris (Willamette Valley)</td>\n",
       "      <td>Pinot Gris</td>\n",
       "      <td>Rainstorm</td>\n",
       "    </tr>\n",
       "    <tr>\n",
       "      <th>3</th>\n",
       "      <td>US</td>\n",
       "      <td>Pineapple rind, lemon pith and orange blossom ...</td>\n",
       "      <td>Reserve Late Harvest</td>\n",
       "      <td>87</td>\n",
       "      <td>13.0</td>\n",
       "      <td>Michigan</td>\n",
       "      <td>Lake Michigan Shore</td>\n",
       "      <td>NaN</td>\n",
       "      <td>Alexander Peartree</td>\n",
       "      <td>NaN</td>\n",
       "      <td>St. Julian 2013 Reserve Late Harvest Riesling ...</td>\n",
       "      <td>Riesling</td>\n",
       "      <td>St. Julian</td>\n",
       "    </tr>\n",
       "    <tr>\n",
       "      <th>4</th>\n",
       "      <td>US</td>\n",
       "      <td>Much like the regular bottling from 2012, this...</td>\n",
       "      <td>Vintner's Reserve Wild Child Block</td>\n",
       "      <td>87</td>\n",
       "      <td>65.0</td>\n",
       "      <td>Oregon</td>\n",
       "      <td>Willamette Valley</td>\n",
       "      <td>Willamette Valley</td>\n",
       "      <td>Paul Gregutt</td>\n",
       "      <td>@paulgwine</td>\n",
       "      <td>Sweet Cheeks 2012 Vintner's Reserve Wild Child...</td>\n",
       "      <td>Pinot Noir</td>\n",
       "      <td>Sweet Cheeks</td>\n",
       "    </tr>\n",
       "  </tbody>\n",
       "</table>\n",
       "</div>"
      ],
      "text/plain": [
       "    country                                        description  \\\n",
       "0     Italy  Aromas include tropical fruit, broom, brimston...   \n",
       "1  Portugal  This is ripe and fruity, a wine that is smooth...   \n",
       "2        US  Tart and snappy, the flavors of lime flesh and...   \n",
       "3        US  Pineapple rind, lemon pith and orange blossom ...   \n",
       "4        US  Much like the regular bottling from 2012, this...   \n",
       "\n",
       "                          designation  points  price           province  \\\n",
       "0                        Vulkà Bianco      87    NaN  Sicily & Sardinia   \n",
       "1                            Avidagos      87   15.0              Douro   \n",
       "2                                 NaN      87   14.0             Oregon   \n",
       "3                Reserve Late Harvest      87   13.0           Michigan   \n",
       "4  Vintner's Reserve Wild Child Block      87   65.0             Oregon   \n",
       "\n",
       "              region_1           region_2         taster_name  \\\n",
       "0                 Etna                NaN       Kerin O’Keefe   \n",
       "1                  NaN                NaN          Roger Voss   \n",
       "2    Willamette Valley  Willamette Valley        Paul Gregutt   \n",
       "3  Lake Michigan Shore                NaN  Alexander Peartree   \n",
       "4    Willamette Valley  Willamette Valley        Paul Gregutt   \n",
       "\n",
       "  taster_twitter_handle                                              title  \\\n",
       "0          @kerinokeefe                  Nicosia 2013 Vulkà Bianco  (Etna)   \n",
       "1            @vossroger      Quinta dos Avidagos 2011 Avidagos Red (Douro)   \n",
       "2           @paulgwine       Rainstorm 2013 Pinot Gris (Willamette Valley)   \n",
       "3                   NaN  St. Julian 2013 Reserve Late Harvest Riesling ...   \n",
       "4           @paulgwine   Sweet Cheeks 2012 Vintner's Reserve Wild Child...   \n",
       "\n",
       "          variety               winery  \n",
       "0     White Blend              Nicosia  \n",
       "1  Portuguese Red  Quinta dos Avidagos  \n",
       "2      Pinot Gris            Rainstorm  \n",
       "3        Riesling           St. Julian  \n",
       "4      Pinot Noir         Sweet Cheeks  "
      ]
     },
     "execution_count": 2,
     "metadata": {},
     "output_type": "execute_result"
    }
   ],
   "source": [
    "reviews.head()"
   ]
  },
  {
   "cell_type": "markdown",
   "id": "186d4605",
   "metadata": {
    "papermill": {
     "duration": 0.005593,
     "end_time": "2022-11-15T00:44:30.377788",
     "exception": false,
     "start_time": "2022-11-15T00:44:30.372195",
     "status": "completed"
    },
    "tags": []
   },
   "source": [
    "## 1.\n",
    "`region_1` and `region_2` are pretty uninformative names for locale columns in the dataset. Create a copy of `reviews` with these columns renamed to `region` and `locale`, respectively."
   ]
  },
  {
   "cell_type": "code",
   "execution_count": 3,
   "id": "a643324e",
   "metadata": {
    "execution": {
     "iopub.execute_input": "2022-11-15T00:44:30.392707Z",
     "iopub.status.busy": "2022-11-15T00:44:30.391449Z",
     "iopub.status.idle": "2022-11-15T00:44:30.432906Z",
     "shell.execute_reply": "2022-11-15T00:44:30.431638Z"
    },
    "papermill": {
     "duration": 0.051547,
     "end_time": "2022-11-15T00:44:30.435375",
     "exception": false,
     "start_time": "2022-11-15T00:44:30.383828",
     "status": "completed"
    },
    "tags": []
   },
   "outputs": [
    {
     "data": {
      "application/javascript": [
       "parent.postMessage({\"jupyterEvent\": \"custom.exercise_interaction\", \"data\": {\"outcomeType\": 1, \"valueTowardsCompletion\": 0.25, \"interactionType\": 1, \"questionType\": 1, \"questionId\": \"1_RenameCols\", \"learnToolsVersion\": \"0.3.4\", \"failureMessage\": \"\", \"exceptionClass\": \"\", \"trace\": \"\"}}, \"*\")"
      ],
      "text/plain": [
       "<IPython.core.display.Javascript object>"
      ]
     },
     "metadata": {},
     "output_type": "display_data"
    },
    {
     "data": {
      "text/markdown": [
       "<span style=\"color:#33cc33\">Correct</span>"
      ],
      "text/plain": [
       "Correct"
      ]
     },
     "metadata": {},
     "output_type": "display_data"
    }
   ],
   "source": [
    "# Your code here\n",
    "renamed = renamed = reviews.rename(columns=dict(region_1='region', region_2='locale'))\n",
    "\n",
    "# Check your answer\n",
    "q1.check()"
   ]
  },
  {
   "cell_type": "code",
   "execution_count": 4,
   "id": "41a8d3c1",
   "metadata": {
    "execution": {
     "iopub.execute_input": "2022-11-15T00:44:30.450752Z",
     "iopub.status.busy": "2022-11-15T00:44:30.449639Z",
     "iopub.status.idle": "2022-11-15T00:44:30.454446Z",
     "shell.execute_reply": "2022-11-15T00:44:30.453262Z"
    },
    "papermill": {
     "duration": 0.015307,
     "end_time": "2022-11-15T00:44:30.457093",
     "exception": false,
     "start_time": "2022-11-15T00:44:30.441786",
     "status": "completed"
    },
    "tags": []
   },
   "outputs": [],
   "source": [
    "#q1.hint()\n",
    "# q1.solution()"
   ]
  },
  {
   "cell_type": "markdown",
   "id": "cdfeeb8e",
   "metadata": {
    "papermill": {
     "duration": 0.005889,
     "end_time": "2022-11-15T00:44:30.471277",
     "exception": false,
     "start_time": "2022-11-15T00:44:30.465388",
     "status": "completed"
    },
    "tags": []
   },
   "source": [
    "## 2.\n",
    "Set the index name in the dataset to `wines`."
   ]
  },
  {
   "cell_type": "code",
   "execution_count": 5,
   "id": "155d91cc",
   "metadata": {
    "execution": {
     "iopub.execute_input": "2022-11-15T00:44:30.485989Z",
     "iopub.status.busy": "2022-11-15T00:44:30.485481Z",
     "iopub.status.idle": "2022-11-15T00:44:30.527903Z",
     "shell.execute_reply": "2022-11-15T00:44:30.526394Z"
    },
    "papermill": {
     "duration": 0.053033,
     "end_time": "2022-11-15T00:44:30.530631",
     "exception": false,
     "start_time": "2022-11-15T00:44:30.477598",
     "status": "completed"
    },
    "tags": []
   },
   "outputs": [
    {
     "data": {
      "application/javascript": [
       "parent.postMessage({\"jupyterEvent\": \"custom.exercise_interaction\", \"data\": {\"outcomeType\": 1, \"valueTowardsCompletion\": 0.25, \"interactionType\": 1, \"questionType\": 1, \"questionId\": \"2_RenameIndex\", \"learnToolsVersion\": \"0.3.4\", \"failureMessage\": \"\", \"exceptionClass\": \"\", \"trace\": \"\"}}, \"*\")"
      ],
      "text/plain": [
       "<IPython.core.display.Javascript object>"
      ]
     },
     "metadata": {},
     "output_type": "display_data"
    },
    {
     "data": {
      "text/markdown": [
       "<span style=\"color:#33cc33\">Correct</span>"
      ],
      "text/plain": [
       "Correct"
      ]
     },
     "metadata": {},
     "output_type": "display_data"
    }
   ],
   "source": [
    "reindexed =  reviews.rename_axis('wines', axis='rows')\n",
    "\n",
    "# Check your answer\n",
    "q2.check()"
   ]
  },
  {
   "cell_type": "code",
   "execution_count": 6,
   "id": "9ca65e8c",
   "metadata": {
    "execution": {
     "iopub.execute_input": "2022-11-15T00:44:30.546005Z",
     "iopub.status.busy": "2022-11-15T00:44:30.545435Z",
     "iopub.status.idle": "2022-11-15T00:44:30.551796Z",
     "shell.execute_reply": "2022-11-15T00:44:30.550274Z"
    },
    "papermill": {
     "duration": 0.017434,
     "end_time": "2022-11-15T00:44:30.554591",
     "exception": false,
     "start_time": "2022-11-15T00:44:30.537157",
     "status": "completed"
    },
    "tags": []
   },
   "outputs": [],
   "source": [
    "#q2.hint()\n",
    "# q2.solution()"
   ]
  },
  {
   "cell_type": "markdown",
   "id": "0db84a93",
   "metadata": {
    "papermill": {
     "duration": 0.006242,
     "end_time": "2022-11-15T00:44:30.567770",
     "exception": false,
     "start_time": "2022-11-15T00:44:30.561528",
     "status": "completed"
    },
    "tags": []
   },
   "source": [
    "## 3.\n",
    "The [Things on Reddit](https://www.kaggle.com/residentmario/things-on-reddit/data) dataset includes product links from a selection of top-ranked forums (\"subreddits\") on reddit.com. Run the cell below to load a dataframe of products mentioned on the */r/gaming* subreddit and another dataframe for products mentioned on the *r//movies* subreddit."
   ]
  },
  {
   "cell_type": "code",
   "execution_count": 7,
   "id": "b2beb20e",
   "metadata": {
    "execution": {
     "iopub.execute_input": "2022-11-15T00:44:30.583406Z",
     "iopub.status.busy": "2022-11-15T00:44:30.582841Z",
     "iopub.status.idle": "2022-11-15T00:44:30.601312Z",
     "shell.execute_reply": "2022-11-15T00:44:30.600075Z"
    },
    "papermill": {
     "duration": 0.029993,
     "end_time": "2022-11-15T00:44:30.604504",
     "exception": false,
     "start_time": "2022-11-15T00:44:30.574511",
     "status": "completed"
    },
    "tags": []
   },
   "outputs": [],
   "source": [
    "gaming_products = pd.read_csv(\"../input/things-on-reddit/top-things/top-things/reddits/g/gaming.csv\")\n",
    "gaming_products['subreddit'] = \"r/gaming\"\n",
    "movie_products = pd.read_csv(\"../input/things-on-reddit/top-things/top-things/reddits/m/movies.csv\")\n",
    "movie_products['subreddit'] = \"r/movies\""
   ]
  },
  {
   "cell_type": "markdown",
   "id": "1d947228",
   "metadata": {
    "papermill": {
     "duration": 0.006322,
     "end_time": "2022-11-15T00:44:30.617632",
     "exception": false,
     "start_time": "2022-11-15T00:44:30.611310",
     "status": "completed"
    },
    "tags": []
   },
   "source": [
    "Create a `DataFrame` of products mentioned on *either* subreddit."
   ]
  },
  {
   "cell_type": "code",
   "execution_count": 8,
   "id": "5e028317",
   "metadata": {
    "execution": {
     "iopub.execute_input": "2022-11-15T00:44:30.633009Z",
     "iopub.status.busy": "2022-11-15T00:44:30.632500Z",
     "iopub.status.idle": "2022-11-15T00:44:30.651333Z",
     "shell.execute_reply": "2022-11-15T00:44:30.649950Z"
    },
    "papermill": {
     "duration": 0.029976,
     "end_time": "2022-11-15T00:44:30.654124",
     "exception": false,
     "start_time": "2022-11-15T00:44:30.624148",
     "status": "completed"
    },
    "tags": []
   },
   "outputs": [
    {
     "data": {
      "application/javascript": [
       "parent.postMessage({\"jupyterEvent\": \"custom.exercise_interaction\", \"data\": {\"outcomeType\": 1, \"valueTowardsCompletion\": 0.25, \"interactionType\": 1, \"questionType\": 2, \"questionId\": \"3_ConcatReddit\", \"learnToolsVersion\": \"0.3.4\", \"failureMessage\": \"\", \"exceptionClass\": \"\", \"trace\": \"\"}}, \"*\")"
      ],
      "text/plain": [
       "<IPython.core.display.Javascript object>"
      ]
     },
     "metadata": {},
     "output_type": "display_data"
    },
    {
     "data": {
      "text/markdown": [
       "<span style=\"color:#33cc33\">Correct</span>"
      ],
      "text/plain": [
       "Correct"
      ]
     },
     "metadata": {},
     "output_type": "display_data"
    }
   ],
   "source": [
    "combined_products = pd.concat([gaming_products, movie_products])\n",
    "\n",
    "# Check your answer\n",
    "q3.check()"
   ]
  },
  {
   "cell_type": "code",
   "execution_count": 9,
   "id": "c41896a9",
   "metadata": {
    "execution": {
     "iopub.execute_input": "2022-11-15T00:44:30.670238Z",
     "iopub.status.busy": "2022-11-15T00:44:30.669679Z",
     "iopub.status.idle": "2022-11-15T00:44:30.675063Z",
     "shell.execute_reply": "2022-11-15T00:44:30.673639Z"
    },
    "papermill": {
     "duration": 0.016944,
     "end_time": "2022-11-15T00:44:30.678047",
     "exception": false,
     "start_time": "2022-11-15T00:44:30.661103",
     "status": "completed"
    },
    "tags": []
   },
   "outputs": [],
   "source": [
    "#q3.hint()\n",
    "# q3.solution()"
   ]
  },
  {
   "cell_type": "markdown",
   "id": "19cf969b",
   "metadata": {
    "papermill": {
     "duration": 0.006635,
     "end_time": "2022-11-15T00:44:30.692268",
     "exception": false,
     "start_time": "2022-11-15T00:44:30.685633",
     "status": "completed"
    },
    "tags": []
   },
   "source": [
    "## 4.\n",
    "The [Powerlifting Database](https://www.kaggle.com/open-powerlifting/powerlifting-database) dataset on Kaggle includes one CSV table for powerlifting meets and a separate one for powerlifting competitors. Run the cell below to load these datasets into dataframes:"
   ]
  },
  {
   "cell_type": "code",
   "execution_count": 10,
   "id": "7228d2ce",
   "metadata": {
    "execution": {
     "iopub.execute_input": "2022-11-15T00:44:30.708414Z",
     "iopub.status.busy": "2022-11-15T00:44:30.707899Z",
     "iopub.status.idle": "2022-11-15T00:44:31.747509Z",
     "shell.execute_reply": "2022-11-15T00:44:31.746249Z"
    },
    "papermill": {
     "duration": 1.051412,
     "end_time": "2022-11-15T00:44:31.750648",
     "exception": false,
     "start_time": "2022-11-15T00:44:30.699236",
     "status": "completed"
    },
    "tags": []
   },
   "outputs": [],
   "source": [
    "powerlifting_meets = pd.read_csv(\"../input/powerlifting-database/meets.csv\")\n",
    "powerlifting_competitors = pd.read_csv(\"../input/powerlifting-database/openpowerlifting.csv\")"
   ]
  },
  {
   "cell_type": "markdown",
   "id": "fb264384",
   "metadata": {
    "papermill": {
     "duration": 0.006564,
     "end_time": "2022-11-15T00:44:31.764214",
     "exception": false,
     "start_time": "2022-11-15T00:44:31.757650",
     "status": "completed"
    },
    "tags": []
   },
   "source": [
    "Both tables include references to a `MeetID`, a unique key for each meet (competition) included in the database. Using this, generate a dataset combining the two tables into one."
   ]
  },
  {
   "cell_type": "code",
   "execution_count": 11,
   "id": "6e558ca4",
   "metadata": {
    "execution": {
     "iopub.execute_input": "2022-11-15T00:44:31.779929Z",
     "iopub.status.busy": "2022-11-15T00:44:31.779323Z",
     "iopub.status.idle": "2022-11-15T00:44:32.931298Z",
     "shell.execute_reply": "2022-11-15T00:44:32.929967Z"
    },
    "papermill": {
     "duration": 1.16312,
     "end_time": "2022-11-15T00:44:32.934054",
     "exception": false,
     "start_time": "2022-11-15T00:44:31.770934",
     "status": "completed"
    },
    "tags": []
   },
   "outputs": [
    {
     "data": {
      "application/javascript": [
       "parent.postMessage({\"jupyterEvent\": \"custom.exercise_interaction\", \"data\": {\"outcomeType\": 1, \"valueTowardsCompletion\": 0.25, \"interactionType\": 1, \"questionType\": 2, \"questionId\": \"4_JoinLifting\", \"learnToolsVersion\": \"0.3.4\", \"failureMessage\": \"\", \"exceptionClass\": \"\", \"trace\": \"\"}}, \"*\")"
      ],
      "text/plain": [
       "<IPython.core.display.Javascript object>"
      ]
     },
     "metadata": {},
     "output_type": "display_data"
    },
    {
     "data": {
      "text/markdown": [
       "<span style=\"color:#33cc33\">Correct</span>"
      ],
      "text/plain": [
       "Correct"
      ]
     },
     "metadata": {},
     "output_type": "display_data"
    }
   ],
   "source": [
    "powerlifting_combined = powerlifting_meets.set_index(\"MeetID\").join(powerlifting_competitors.set_index(\"MeetID\"))\n",
    "\n",
    "# Check your answer\n",
    "q4.check()"
   ]
  },
  {
   "cell_type": "code",
   "execution_count": 12,
   "id": "8c620270",
   "metadata": {
    "execution": {
     "iopub.execute_input": "2022-11-15T00:44:32.950406Z",
     "iopub.status.busy": "2022-11-15T00:44:32.949899Z",
     "iopub.status.idle": "2022-11-15T00:44:32.955262Z",
     "shell.execute_reply": "2022-11-15T00:44:32.954013Z"
    },
    "papermill": {
     "duration": 0.016519,
     "end_time": "2022-11-15T00:44:32.957681",
     "exception": false,
     "start_time": "2022-11-15T00:44:32.941162",
     "status": "completed"
    },
    "tags": []
   },
   "outputs": [],
   "source": [
    "#q4.hint()\n",
    "# q4.solution()"
   ]
  },
  {
   "cell_type": "markdown",
   "id": "d9c27442",
   "metadata": {
    "papermill": {
     "duration": 0.006686,
     "end_time": "2022-11-15T00:44:32.971719",
     "exception": false,
     "start_time": "2022-11-15T00:44:32.965033",
     "status": "completed"
    },
    "tags": []
   },
   "source": [
    "# Congratulations!\n",
    "\n",
    "You've finished the Pandas micro-course.  Many data scientists feel efficiency with Pandas is the most useful and practical skill they have, because it allows you to progress quickly in any project you have.\n",
    "\n",
    "If you'd like to apply your new skills to examining geospatial data, you're encouraged to check out our **[Geospatial Analysis](https://www.kaggle.com/learn/geospatial-analysis)** micro-course.\n",
    "\n",
    "You can also take advantage of your Pandas skills by entering a **[Kaggle Competition](https://www.kaggle.com/competitions)** or by answering a question you find interesting using **[Kaggle Datasets](https://www.kaggle.com/datasets)**."
   ]
  },
  {
   "cell_type": "markdown",
   "id": "ea4f3c12",
   "metadata": {
    "papermill": {
     "duration": 0.007606,
     "end_time": "2022-11-15T00:44:32.986391",
     "exception": false,
     "start_time": "2022-11-15T00:44:32.978785",
     "status": "completed"
    },
    "tags": []
   },
   "source": [
    "---\n",
    "\n",
    "\n",
    "\n",
    "\n",
    "*Have questions or comments? Visit the [course discussion forum](https://www.kaggle.com/learn/pandas/discussion) to chat with other learners.*"
   ]
  }
 ],
 "metadata": {
  "kernelspec": {
   "display_name": "Python 3",
   "language": "python",
   "name": "python3"
  },
  "language_info": {
   "codemirror_mode": {
    "name": "ipython",
    "version": 3
   },
   "file_extension": ".py",
   "mimetype": "text/x-python",
   "name": "python",
   "nbconvert_exporter": "python",
   "pygments_lexer": "ipython3",
   "version": "3.7.12"
  },
  "papermill": {
   "default_parameters": {},
   "duration": 18.524418,
   "end_time": "2022-11-15T00:44:34.121656",
   "environment_variables": {},
   "exception": null,
   "input_path": "__notebook__.ipynb",
   "output_path": "__notebook__.ipynb",
   "parameters": {},
   "start_time": "2022-11-15T00:44:15.597238",
   "version": "2.3.4"
  }
 },
 "nbformat": 4,
 "nbformat_minor": 5
}
